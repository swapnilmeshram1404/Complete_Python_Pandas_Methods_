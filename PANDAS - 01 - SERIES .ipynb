{
 "cells": [
  {
   "cell_type": "code",
   "execution_count": 1,
   "id": "550962cf",
   "metadata": {},
   "outputs": [],
   "source": [
    "import numpy as np\n",
    "\n",
    "import pandas as pd"
   ]
  },
  {
   "cell_type": "code",
   "execution_count": 2,
   "id": "fce7b9ee",
   "metadata": {},
   "outputs": [],
   "source": [
    "myindex = [\"usa\" , \"canada\" , \"mexico\"]"
   ]
  },
  {
   "cell_type": "code",
   "execution_count": 3,
   "id": "8f251b91",
   "metadata": {},
   "outputs": [],
   "source": [
    "mydata = [1776, 1867, 1821]"
   ]
  },
  {
   "cell_type": "code",
   "execution_count": 4,
   "id": "a7725a3b",
   "metadata": {},
   "outputs": [],
   "source": [
    "myseries = pd.Series(mydata)"
   ]
  },
  {
   "cell_type": "code",
   "execution_count": 7,
   "id": "7411279b",
   "metadata": {},
   "outputs": [
    {
     "data": {
      "text/plain": [
       "0    1776\n",
       "1    1867\n",
       "2    1821\n",
       "dtype: int64"
      ]
     },
     "execution_count": 7,
     "metadata": {},
     "output_type": "execute_result"
    }
   ],
   "source": [
    "myseries #here it has taken default index as 0,1,2 but we can reset the index as below"
   ]
  },
  {
   "cell_type": "code",
   "execution_count": 8,
   "id": "6c5aaa9e",
   "metadata": {},
   "outputs": [
    {
     "data": {
      "text/plain": [
       "usa       1776\n",
       "canada    1867\n",
       "mexico    1821\n",
       "dtype: int64"
      ]
     },
     "execution_count": 8,
     "metadata": {},
     "output_type": "execute_result"
    }
   ],
   "source": [
    "myseries = pd.Series(mydata , index = myindex)\n",
    "\n",
    "myseries"
   ]
  },
  {
   "cell_type": "code",
   "execution_count": 9,
   "id": "e85339f7",
   "metadata": {},
   "outputs": [],
   "source": [
    "ages = {\"Naresh\" : 62 , \"Sangita\" : 58 , \"Swapnil\" : 30 , \"Amrapali\" : 30 , \"Divvyansh\" : 1}"
   ]
  },
  {
   "cell_type": "code",
   "execution_count": 10,
   "id": "504b6496",
   "metadata": {},
   "outputs": [
    {
     "data": {
      "text/plain": [
       "Naresh       62\n",
       "Sangita      58\n",
       "Swapnil      30\n",
       "Amrapali     30\n",
       "Divvyansh     1\n",
       "dtype: int64"
      ]
     },
     "execution_count": 10,
     "metadata": {},
     "output_type": "execute_result"
    }
   ],
   "source": [
    "pd.Series(ages)"
   ]
  },
  {
   "cell_type": "code",
   "execution_count": null,
   "id": "d3b96fa8",
   "metadata": {},
   "outputs": [],
   "source": []
  }
 ],
 "metadata": {
  "kernelspec": {
   "display_name": "Python 3 (ipykernel)",
   "language": "python",
   "name": "python3"
  },
  "language_info": {
   "codemirror_mode": {
    "name": "ipython",
    "version": 3
   },
   "file_extension": ".py",
   "mimetype": "text/x-python",
   "name": "python",
   "nbconvert_exporter": "python",
   "pygments_lexer": "ipython3",
   "version": "3.9.12"
  }
 },
 "nbformat": 4,
 "nbformat_minor": 5
}
